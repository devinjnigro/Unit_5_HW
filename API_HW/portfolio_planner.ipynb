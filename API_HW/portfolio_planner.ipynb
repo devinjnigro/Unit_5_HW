{
 "cells": [
  {
   "cell_type": "code",
   "execution_count": 6,
   "metadata": {},
   "outputs": [],
   "source": [
    "import numpy as np\n",
    "import pandas as pd\n",
    "from datetime import datetime, timedelta\n",
    "import matplotlib.pyplot as plt\n",
    "%matplotlib inline"
   ]
  },
  {
   "cell_type": "code",
   "execution_count": 7,
   "metadata": {},
   "outputs": [],
   "source": [
    "np.random.seed(42)"
   ]
  },
  {
   "cell_type": "markdown",
   "metadata": {},
   "source": [
    "# Portfolio Planner\n",
    "\n",
    "In this activity, you will use the iexfinance api to grab historical data for a 60/40 portfolio using `SPY` to represent the stock portion and `AGG` to represent the bonds."
   ]
  },
  {
   "cell_type": "code",
   "execution_count": 8,
   "metadata": {},
   "outputs": [],
   "source": [
    "from iexfinance.stocks import get_historical_data\n",
    "import iexfinance as iex"
   ]
  },
  {
   "cell_type": "markdown",
   "metadata": {},
   "source": [
    "# Data Collection\n",
    "\n",
    "In this step, you will need to use the IEX api to fetch closing prices for the `SPY` and `AGG` tickers. Save the results as a pandas DataFrame"
   ]
  },
  {
   "cell_type": "code",
   "execution_count": 10,
   "metadata": {},
   "outputs": [
    {
     "data": {
      "text/html": [
       "<div>\n",
       "<style scoped>\n",
       "    .dataframe tbody tr th:only-of-type {\n",
       "        vertical-align: middle;\n",
       "    }\n",
       "\n",
       "    .dataframe tbody tr th {\n",
       "        vertical-align: top;\n",
       "    }\n",
       "\n",
       "    .dataframe thead tr th {\n",
       "        text-align: left;\n",
       "    }\n",
       "\n",
       "    .dataframe thead tr:last-of-type th {\n",
       "        text-align: right;\n",
       "    }\n",
       "</style>\n",
       "<table border=\"1\" class=\"dataframe\">\n",
       "  <thead>\n",
       "    <tr>\n",
       "      <th></th>\n",
       "      <th colspan=\"5\" halign=\"left\">SPY</th>\n",
       "      <th colspan=\"5\" halign=\"left\">AGG</th>\n",
       "    </tr>\n",
       "    <tr>\n",
       "      <th></th>\n",
       "      <th>open</th>\n",
       "      <th>high</th>\n",
       "      <th>low</th>\n",
       "      <th>close</th>\n",
       "      <th>volume</th>\n",
       "      <th>open</th>\n",
       "      <th>high</th>\n",
       "      <th>low</th>\n",
       "      <th>close</th>\n",
       "      <th>volume</th>\n",
       "    </tr>\n",
       "    <tr>\n",
       "      <th>date</th>\n",
       "      <th></th>\n",
       "      <th></th>\n",
       "      <th></th>\n",
       "      <th></th>\n",
       "      <th></th>\n",
       "      <th></th>\n",
       "      <th></th>\n",
       "      <th></th>\n",
       "      <th></th>\n",
       "      <th></th>\n",
       "    </tr>\n",
       "  </thead>\n",
       "  <tbody>\n",
       "    <tr>\n",
       "      <th>2019-01-28</th>\n",
       "      <td>263.39</td>\n",
       "      <td>263.83</td>\n",
       "      <td>261.79</td>\n",
       "      <td>263.76</td>\n",
       "      <td>85613655</td>\n",
       "      <td>106.62</td>\n",
       "      <td>106.75</td>\n",
       "      <td>106.58</td>\n",
       "      <td>106.62</td>\n",
       "      <td>7365747</td>\n",
       "    </tr>\n",
       "    <tr>\n",
       "      <th>2019-01-29</th>\n",
       "      <td>263.92</td>\n",
       "      <td>264.55</td>\n",
       "      <td>262.48</td>\n",
       "      <td>263.41</td>\n",
       "      <td>66136334</td>\n",
       "      <td>106.73</td>\n",
       "      <td>106.93</td>\n",
       "      <td>106.69</td>\n",
       "      <td>106.90</td>\n",
       "      <td>6158607</td>\n",
       "    </tr>\n",
       "    <tr>\n",
       "      <th>2019-01-30</th>\n",
       "      <td>265.10</td>\n",
       "      <td>268.52</td>\n",
       "      <td>264.25</td>\n",
       "      <td>267.58</td>\n",
       "      <td>92473671</td>\n",
       "      <td>106.79</td>\n",
       "      <td>107.15</td>\n",
       "      <td>106.79</td>\n",
       "      <td>107.14</td>\n",
       "      <td>6350434</td>\n",
       "    </tr>\n",
       "    <tr>\n",
       "      <th>2019-01-31</th>\n",
       "      <td>267.51</td>\n",
       "      <td>270.47</td>\n",
       "      <td>267.27</td>\n",
       "      <td>269.93</td>\n",
       "      <td>104012073</td>\n",
       "      <td>107.30</td>\n",
       "      <td>107.53</td>\n",
       "      <td>107.29</td>\n",
       "      <td>107.46</td>\n",
       "      <td>14766451</td>\n",
       "    </tr>\n",
       "    <tr>\n",
       "      <th>2019-02-01</th>\n",
       "      <td>270.15</td>\n",
       "      <td>271.20</td>\n",
       "      <td>269.18</td>\n",
       "      <td>270.06</td>\n",
       "      <td>85782524</td>\n",
       "      <td>107.09</td>\n",
       "      <td>107.15</td>\n",
       "      <td>106.88</td>\n",
       "      <td>106.97</td>\n",
       "      <td>7227896</td>\n",
       "    </tr>\n",
       "  </tbody>\n",
       "</table>\n",
       "</div>"
      ],
      "text/plain": [
       "               SPY                                        AGG                  \\\n",
       "              open    high     low   close     volume    open    high     low   \n",
       "date                                                                            \n",
       "2019-01-28  263.39  263.83  261.79  263.76   85613655  106.62  106.75  106.58   \n",
       "2019-01-29  263.92  264.55  262.48  263.41   66136334  106.73  106.93  106.69   \n",
       "2019-01-30  265.10  268.52  264.25  267.58   92473671  106.79  107.15  106.79   \n",
       "2019-01-31  267.51  270.47  267.27  269.93  104012073  107.30  107.53  107.29   \n",
       "2019-02-01  270.15  271.20  269.18  270.06   85782524  107.09  107.15  106.88   \n",
       "\n",
       "                              \n",
       "             close    volume  \n",
       "date                          \n",
       "2019-01-28  106.62   7365747  \n",
       "2019-01-29  106.90   6158607  \n",
       "2019-01-30  107.14   6350434  \n",
       "2019-01-31  107.46  14766451  \n",
       "2019-02-01  106.97   7227896  "
      ]
     },
     "execution_count": 10,
     "metadata": {},
     "output_type": "execute_result"
    }
   ],
   "source": [
    "list_of_tickers = [\"SPY\", \"AGG\"]\n",
    "\n",
    "end_date = datetime.now()\n",
    "start_date = end_date + timedelta(-365)\n",
    "\n",
    "df = get_historical_data(list_of_tickers, start_date, end_date, output_format='pandas')\n",
    "df.head()"
   ]
  },
  {
   "cell_type": "markdown",
   "metadata": {},
   "source": [
    "# Monte Carlo Simulation\n",
    "\n",
    "In this step, you will run Monte Carlo Simulations for your portfolio to model portfolio performance at different retirement ages. \n",
    "\n",
    "Complete the following steps:\n",
    "1. Calculate the daily returns for the SPY and AGG closing prices.\n",
    "2. Calculate volatility for both the SPY and AGG closing prices.\n",
    "3. Find the last day's closing price for both stocks and save those as variables.\n",
    "4. Run a Monte Carlo Simulation of at least 500 iterations and generate at least 30 years of closing prices\n",
    "\n",
    "### HINTS:\n",
    "There are 252 trading days per year, so the number of records to generate for each Monte Carlo run will be 252 days * 30 years"
   ]
  },
  {
   "cell_type": "code",
   "execution_count": 224,
   "metadata": {},
   "outputs": [],
   "source": [
    "df.to_pickle('portfolio_df.pickle')"
   ]
  },
  {
   "cell_type": "code",
   "execution_count": 241,
   "metadata": {},
   "outputs": [],
   "source": [
    "df = pd.read_pickle('portfolio_df.pickle')"
   ]
  },
  {
   "cell_type": "code",
   "execution_count": 290,
   "metadata": {},
   "outputs": [
    {
     "data": {
      "text/html": [
       "<div>\n",
       "<style scoped>\n",
       "    .dataframe tbody tr th:only-of-type {\n",
       "        vertical-align: middle;\n",
       "    }\n",
       "\n",
       "    .dataframe tbody tr th {\n",
       "        vertical-align: top;\n",
       "    }\n",
       "\n",
       "    .dataframe thead tr th {\n",
       "        text-align: left;\n",
       "    }\n",
       "\n",
       "    .dataframe thead tr:last-of-type th {\n",
       "        text-align: right;\n",
       "    }\n",
       "</style>\n",
       "<table border=\"1\" class=\"dataframe\">\n",
       "  <thead>\n",
       "    <tr>\n",
       "      <th></th>\n",
       "      <th>SPY</th>\n",
       "      <th>AGG</th>\n",
       "    </tr>\n",
       "    <tr>\n",
       "      <th></th>\n",
       "      <th>Daily ROI</th>\n",
       "      <th>Daily ROI</th>\n",
       "    </tr>\n",
       "    <tr>\n",
       "      <th>date</th>\n",
       "      <th></th>\n",
       "      <th></th>\n",
       "    </tr>\n",
       "  </thead>\n",
       "  <tbody>\n",
       "    <tr>\n",
       "      <th>2019-01-29</th>\n",
       "      <td>-0.001327</td>\n",
       "      <td>0.002626</td>\n",
       "    </tr>\n",
       "    <tr>\n",
       "      <th>2019-01-30</th>\n",
       "      <td>0.015831</td>\n",
       "      <td>0.002245</td>\n",
       "    </tr>\n",
       "    <tr>\n",
       "      <th>2019-01-31</th>\n",
       "      <td>0.008782</td>\n",
       "      <td>0.002987</td>\n",
       "    </tr>\n",
       "    <tr>\n",
       "      <th>2019-02-01</th>\n",
       "      <td>0.000482</td>\n",
       "      <td>-0.004560</td>\n",
       "    </tr>\n",
       "    <tr>\n",
       "      <th>2019-02-04</th>\n",
       "      <td>0.007035</td>\n",
       "      <td>-0.000841</td>\n",
       "    </tr>\n",
       "  </tbody>\n",
       "</table>\n",
       "</div>"
      ],
      "text/plain": [
       "                 SPY       AGG\n",
       "           Daily ROI Daily ROI\n",
       "date                          \n",
       "2019-01-29 -0.001327  0.002626\n",
       "2019-01-30  0.015831  0.002245\n",
       "2019-01-31  0.008782  0.002987\n",
       "2019-02-01  0.000482 -0.004560\n",
       "2019-02-04  0.007035 -0.000841"
      ]
     },
     "execution_count": 290,
     "metadata": {},
     "output_type": "execute_result"
    }
   ],
   "source": [
    "# Calculate the daily roi for the stocks\n",
    "\n",
    "df.drop(columns=['open', 'high', 'low', 'volume'], level=1, inplace=True)\n",
    "daily_returns = df.pct_change().dropna()\n",
    "daily_returns.rename(columns={'close': 'Daily ROI'}, inplace=True)\n",
    "daily_returns.head()"
   ]
  },
  {
   "cell_type": "code",
   "execution_count": 243,
   "metadata": {},
   "outputs": [],
   "source": [
    "avg_daily_return_spy = daily_returns.mean()['SPY']['close']\n",
    "avg_daily_return_agg = daily_returns.mean()['AGG']['close']"
   ]
  },
  {
   "cell_type": "code",
   "execution_count": 244,
   "metadata": {},
   "outputs": [
    {
     "data": {
      "text/plain": [
       "0.005273288240536968"
      ]
     },
     "execution_count": 244,
     "metadata": {},
     "output_type": "execute_result"
    }
   ],
   "source": [
    "# Calculate volatility\n",
    "\n",
    "daily_returns_std_spy = daily_returns.std()['SPY']['close']\n",
    "daily_returns_std_agg = daily_returns.std()['AGG']['close']\n",
    "daily_returns_std_total = (daily_returns_std_spy * weights[0]) + (daily_returns_std_agg * weights[1])\n",
    "daily_returns_std_total"
   ]
  },
  {
   "cell_type": "code",
   "execution_count": 245,
   "metadata": {},
   "outputs": [],
   "source": [
    "# Save the last day's closing price\n",
    "\n",
    "spy_last_price = df['SPY']['close'][-1]\n",
    "agg_last_price = df['AGG']['close'][-1]"
   ]
  },
  {
   "cell_type": "code",
   "execution_count": 246,
   "metadata": {},
   "outputs": [],
   "source": [
    "weights = [0.6, 0.4]"
   ]
  },
  {
   "cell_type": "code",
   "execution_count": 247,
   "metadata": {},
   "outputs": [],
   "source": [
    "# Setup the Monte Carlo Parameters\n",
    "number_simulations = 500\n",
    "number_records = 252 * 30\n",
    "monte_carlo = pd.DataFrame()\n",
    "portfolio_cumulative_returns = pd.DataFrame()"
   ]
  },
  {
   "cell_type": "code",
   "execution_count": 299,
   "metadata": {},
   "outputs": [
    {
     "data": {
      "text/html": [
       "<div>\n",
       "<style scoped>\n",
       "    .dataframe tbody tr th:only-of-type {\n",
       "        vertical-align: middle;\n",
       "    }\n",
       "\n",
       "    .dataframe tbody tr th {\n",
       "        vertical-align: top;\n",
       "    }\n",
       "\n",
       "    .dataframe thead th {\n",
       "        text-align: right;\n",
       "    }\n",
       "</style>\n",
       "<table border=\"1\" class=\"dataframe\">\n",
       "  <thead>\n",
       "    <tr style=\"text-align: right;\">\n",
       "      <th></th>\n",
       "      <th>0</th>\n",
       "      <th>1</th>\n",
       "      <th>2</th>\n",
       "      <th>3</th>\n",
       "      <th>4</th>\n",
       "      <th>5</th>\n",
       "      <th>6</th>\n",
       "      <th>7</th>\n",
       "      <th>8</th>\n",
       "      <th>9</th>\n",
       "      <th>...</th>\n",
       "      <th>Simulation 491</th>\n",
       "      <th>Simulation 492</th>\n",
       "      <th>Simulation 493</th>\n",
       "      <th>Simulation 494</th>\n",
       "      <th>Simulation 495</th>\n",
       "      <th>Simulation 496</th>\n",
       "      <th>Simulation 497</th>\n",
       "      <th>Simulation 498</th>\n",
       "      <th>Simulation 499</th>\n",
       "      <th>Simulation 500</th>\n",
       "    </tr>\n",
       "  </thead>\n",
       "  <tbody>\n",
       "    <tr>\n",
       "      <th>0</th>\n",
       "      <td>1.000000</td>\n",
       "      <td>1.000000</td>\n",
       "      <td>1.000000</td>\n",
       "      <td>1.000000</td>\n",
       "      <td>1.000000</td>\n",
       "      <td>1.000000</td>\n",
       "      <td>1.000000</td>\n",
       "      <td>1.000000</td>\n",
       "      <td>1.000000</td>\n",
       "      <td>1.000000</td>\n",
       "      <td>...</td>\n",
       "      <td>1.000000</td>\n",
       "      <td>1.000000</td>\n",
       "      <td>1.000000</td>\n",
       "      <td>1.000000</td>\n",
       "      <td>1.000000</td>\n",
       "      <td>1.000000</td>\n",
       "      <td>1.000000</td>\n",
       "      <td>1.000000</td>\n",
       "      <td>1.000000</td>\n",
       "      <td>1.000000</td>\n",
       "    </tr>\n",
       "    <tr>\n",
       "      <th>1</th>\n",
       "      <td>1.007030</td>\n",
       "      <td>0.995253</td>\n",
       "      <td>0.998583</td>\n",
       "      <td>1.006130</td>\n",
       "      <td>1.007998</td>\n",
       "      <td>1.000087</td>\n",
       "      <td>0.999471</td>\n",
       "      <td>1.000954</td>\n",
       "      <td>1.002905</td>\n",
       "      <td>0.998300</td>\n",
       "      <td>...</td>\n",
       "      <td>1.001830</td>\n",
       "      <td>1.000914</td>\n",
       "      <td>0.996505</td>\n",
       "      <td>0.993562</td>\n",
       "      <td>0.997357</td>\n",
       "      <td>0.994259</td>\n",
       "      <td>0.995280</td>\n",
       "      <td>1.000959</td>\n",
       "      <td>1.000233</td>\n",
       "      <td>0.998947</td>\n",
       "    </tr>\n",
       "    <tr>\n",
       "      <th>2</th>\n",
       "      <td>1.006149</td>\n",
       "      <td>0.996965</td>\n",
       "      <td>0.998466</td>\n",
       "      <td>1.005566</td>\n",
       "      <td>1.008365</td>\n",
       "      <td>1.010418</td>\n",
       "      <td>0.999247</td>\n",
       "      <td>0.995821</td>\n",
       "      <td>1.004658</td>\n",
       "      <td>0.994433</td>\n",
       "      <td>...</td>\n",
       "      <td>0.998289</td>\n",
       "      <td>1.009101</td>\n",
       "      <td>1.005004</td>\n",
       "      <td>0.994005</td>\n",
       "      <td>1.004804</td>\n",
       "      <td>0.993422</td>\n",
       "      <td>0.996148</td>\n",
       "      <td>0.998624</td>\n",
       "      <td>1.000421</td>\n",
       "      <td>0.998869</td>\n",
       "    </tr>\n",
       "    <tr>\n",
       "      <th>3</th>\n",
       "      <td>1.001160</td>\n",
       "      <td>1.000113</td>\n",
       "      <td>1.001115</td>\n",
       "      <td>1.002030</td>\n",
       "      <td>1.001479</td>\n",
       "      <td>1.007491</td>\n",
       "      <td>1.003185</td>\n",
       "      <td>0.990060</td>\n",
       "      <td>1.005408</td>\n",
       "      <td>0.993348</td>\n",
       "      <td>...</td>\n",
       "      <td>0.997672</td>\n",
       "      <td>1.001791</td>\n",
       "      <td>1.001425</td>\n",
       "      <td>0.994338</td>\n",
       "      <td>1.007224</td>\n",
       "      <td>0.997253</td>\n",
       "      <td>0.997937</td>\n",
       "      <td>0.993449</td>\n",
       "      <td>0.998488</td>\n",
       "      <td>0.998986</td>\n",
       "    </tr>\n",
       "    <tr>\n",
       "      <th>4</th>\n",
       "      <td>1.000834</td>\n",
       "      <td>1.005278</td>\n",
       "      <td>0.998331</td>\n",
       "      <td>1.001445</td>\n",
       "      <td>1.003153</td>\n",
       "      <td>1.005099</td>\n",
       "      <td>1.017432</td>\n",
       "      <td>0.994732</td>\n",
       "      <td>1.007942</td>\n",
       "      <td>0.993723</td>\n",
       "      <td>...</td>\n",
       "      <td>0.998237</td>\n",
       "      <td>0.998993</td>\n",
       "      <td>0.998528</td>\n",
       "      <td>1.001761</td>\n",
       "      <td>1.005894</td>\n",
       "      <td>0.999878</td>\n",
       "      <td>1.004249</td>\n",
       "      <td>0.992309</td>\n",
       "      <td>0.996959</td>\n",
       "      <td>0.999528</td>\n",
       "    </tr>\n",
       "  </tbody>\n",
       "</table>\n",
       "<p>5 rows × 1500 columns</p>\n",
       "</div>"
      ],
      "text/plain": [
       "          0         1         2         3         4         5         6  \\\n",
       "0  1.000000  1.000000  1.000000  1.000000  1.000000  1.000000  1.000000   \n",
       "1  1.007030  0.995253  0.998583  1.006130  1.007998  1.000087  0.999471   \n",
       "2  1.006149  0.996965  0.998466  1.005566  1.008365  1.010418  0.999247   \n",
       "3  1.001160  1.000113  1.001115  1.002030  1.001479  1.007491  1.003185   \n",
       "4  1.000834  1.005278  0.998331  1.001445  1.003153  1.005099  1.017432   \n",
       "\n",
       "          7         8         9  ...  Simulation 491  Simulation 492  \\\n",
       "0  1.000000  1.000000  1.000000  ...        1.000000        1.000000   \n",
       "1  1.000954  1.002905  0.998300  ...        1.001830        1.000914   \n",
       "2  0.995821  1.004658  0.994433  ...        0.998289        1.009101   \n",
       "3  0.990060  1.005408  0.993348  ...        0.997672        1.001791   \n",
       "4  0.994732  1.007942  0.993723  ...        0.998237        0.998993   \n",
       "\n",
       "   Simulation 493  Simulation 494  Simulation 495  Simulation 496  \\\n",
       "0        1.000000        1.000000        1.000000        1.000000   \n",
       "1        0.996505        0.993562        0.997357        0.994259   \n",
       "2        1.005004        0.994005        1.004804        0.993422   \n",
       "3        1.001425        0.994338        1.007224        0.997253   \n",
       "4        0.998528        1.001761        1.005894        0.999878   \n",
       "\n",
       "   Simulation 497  Simulation 498  Simulation 499  Simulation 500  \n",
       "0        1.000000        1.000000        1.000000        1.000000  \n",
       "1        0.995280        1.000959        1.000233        0.998947  \n",
       "2        0.996148        0.998624        1.000421        0.998869  \n",
       "3        0.997937        0.993449        0.998488        0.998986  \n",
       "4        1.004249        0.992309        0.996959        0.999528  \n",
       "\n",
       "[5 rows x 1500 columns]"
      ]
     },
     "execution_count": 299,
     "metadata": {},
     "output_type": "execute_result"
    }
   ],
   "source": [
    "# Run the Monte Carlo Simulation\n",
    "for x in range(number_simulations):\n",
    "    \n",
    "    simulated_spy = [spy_last_price]\n",
    "    simulated_agg = [agg_last_price]\n",
    "    \n",
    "    for i in range(number_records):\n",
    "        \n",
    "        simulated_spy_price = simulated_spy[-1] *\\\n",
    "        (1 + np.random.normal(avg_daily_return_spy, daily_returns_std_spy))\n",
    "        \n",
    "        simulated_agg_price = simulated_agg[-1] *\\\n",
    "        (1 + np.random.normal(avg_daily_return_agg, daily_returns_std_agg))\n",
    "        \n",
    "        simulated_spy.append(simulated_spy_price)\n",
    "        simulated_agg.append(simulated_agg_price)\n",
    "        \n",
    "    monte_carlo[\"SPY prices\"] = pd.Series(simulated_spy)\n",
    "    monte_carlo[\"AGG prices\"] = pd.Series(simulated_agg)\n",
    "    \n",
    "    simulated_daily_returns = monte_carlo.pct_change()\n",
    "    \n",
    "    portfolio_daily_returns = simulated_daily_returns.dot(weights)\n",
    "    \n",
    "    portfolio_cumulative_returns[f\"Simulation {x+1}\"] = (1 + portfolio_daily_returns.fillna(0)).cumprod()\n",
    "    \n",
    "portfolio_cumulative_returns.head()\n",
    "    "
   ]
  },
  {
   "cell_type": "code",
   "execution_count": 249,
   "metadata": {},
   "outputs": [
    {
     "data": {
      "text/plain": [
       "<matplotlib.axes._subplots.AxesSubplot at 0x14bfe6750>"
      ]
     },
     "execution_count": 249,
     "metadata": {},
     "output_type": "execute_result"
    },
    {
     "data": {
      "image/png": "[encoded data removed]",
      "text/plain": [
       "<Figure size 432x288 with 1 Axes>"
      ]
     },
     "metadata": {
      "needs_background": "light"
     },
     "output_type": "display_data"
    }
   ],
   "source": [
    "# Visualize the Simulation\n",
    "\n",
    "portfolio_cumulative_returns.plot(legend=None, title=\"Simulated Retirement Portfolio\")"
   ]
  },
  {
   "cell_type": "code",
   "execution_count": 295,
   "metadata": {},
   "outputs": [
    {
     "data": {
      "text/plain": [
       "0    168.218290\n",
       "1    134.478431\n",
       "2    141.971354\n",
       "3    139.516961\n",
       "4     86.412894\n",
       "Name: 7560, dtype: float64"
      ]
     },
     "execution_count": 295,
     "metadata": {},
     "output_type": "execute_result"
    }
   ],
   "source": [
    "# Select the last row for the cumulative returns (cumulative returns at 30 years)\n",
    "\n",
    "last_cumulative_returns = portfolio_cumulative_returns.iloc[-1, :]\n",
    "last_cumulative_returns.head()"
   ]
  },
  {
   "cell_type": "code",
   "execution_count": 296,
   "metadata": {},
   "outputs": [
    {
     "data": {
      "text/plain": [
       "0    22.882055\n",
       "1    32.760865\n",
       "2    34.584203\n",
       "3    23.949777\n",
       "4    20.932368\n",
       "Name: 5041, dtype: float64"
      ]
     },
     "execution_count": 296,
     "metadata": {},
     "output_type": "execute_result"
    }
   ],
   "source": [
    "# Select the last row for the cumulative returns (cumulative returns at 20 years)\n",
    "\n",
    "cumulative_returns_20 = portfolio_cumulative_returns.iloc[-2520, :]\n",
    "cumulative_returns_20.head()"
   ]
  },
  {
   "cell_type": "code",
   "execution_count": 252,
   "metadata": {},
   "outputs": [
    {
     "data": {
      "text/plain": [
       "0.05     65.756661\n",
       "0.95    249.071049\n",
       "Name: 7560, dtype: float64"
      ]
     },
     "execution_count": 252,
     "metadata": {},
     "output_type": "execute_result"
    }
   ],
   "source": [
    "# Display the 90% confidence interval for the ending returns\n",
    "\n",
    "confidence_interval = last_cumulative_returns.quantile(q=[0.05, 0.95])\n",
    "confidence_interval"
   ]
  },
  {
   "cell_type": "code",
   "execution_count": 253,
   "metadata": {},
   "outputs": [
    {
     "data": {
      "text/plain": [
       "<matplotlib.lines.Line2D at 0x167264a50>"
      ]
     },
     "execution_count": 253,
     "metadata": {},
     "output_type": "execute_result"
    },
    {
     "data": {
      "image/png": "[encoded data removed]",
      "text/plain": [
       "<Figure size 432x288 with 1 Axes>"
      ]
     },
     "metadata": {
      "needs_background": "light"
     },
     "output_type": "display_data"
    }
   ],
   "source": [
    "# Visualize the distribution of the ending returns\n",
    "\n",
    "plt.figure();\n",
    "last_cumulative_returns.plot(kind='hist', title='Projected Cumulative Returns', density=True, bins=50)\n",
    "plt.axvline(confidence_interval.iloc[0], color='r')\n",
    "plt.axvline(confidence_interval.iloc[1], color='r')"
   ]
  },
  {
   "cell_type": "markdown",
   "metadata": {},
   "source": [
    "---"
   ]
  },
  {
   "cell_type": "markdown",
   "metadata": {},
   "source": [
    "# Retirement Analysis\n",
    "\n",
    "In this section, you will use the monte carlo model to answer the following retirement planning questions:\n",
    "\n",
    "1. What are the expected cumulative returns at 30 years for the 10th, 50th, and 90th percentiles?\n",
    "2. Given an initial investment of `$20,000`, what is the expected portfolio return in dollars at the 10th, 50th, and 90th percentiles?\n",
    "3. Given the current projected annual income from the Plaid analysis, will a 4% withdraw rate from the retirement portfolio meet or exceed that value at the 10th percentile?\n",
    "4. How would a 50% increase in the initial investment amount affect the 4% retirement withdrawal?"
   ]
  },
  {
   "cell_type": "markdown",
   "metadata": {},
   "source": [
    "### What are the expected cumulative returns at 30 years for the 10th, 50th, and 90th percentiles?"
   ]
  },
  {
   "cell_type": "code",
   "execution_count": 254,
   "metadata": {},
   "outputs": [
    {
     "name": "stdout",
     "output_type": "stream",
     "text": [
      "10th Percentile: 7295.51%\n",
      "50th Percentile: 12608.22%\n",
      "90th Percentile: 20830.95%\n"
     ]
    }
   ],
   "source": [
    "return_10_perc = last_cumulative_returns.quantile(0.1)\n",
    "return_50_perc = last_cumulative_returns.quantile(0.5)\n",
    "return_90_perc = last_cumulative_returns.quantile(0.9)\n",
    "\n",
    "print(f\"10th Percentile: {round(return_10_perc * 100,2)}%\")\n",
    "print(f\"50th Percentile: {round(return_50_perc * 100,2)}%\")\n",
    "print(f\"90th Percentile: {round(return_90_perc * 100,2)}%\")"
   ]
  },
  {
   "cell_type": "markdown",
   "metadata": {},
   "source": [
    "### Given an initial investment of `$20,000`, what is the expected portfolio return in dollars at the 10th, 50th, and 90th percentiles?"
   ]
  },
  {
   "cell_type": "code",
   "execution_count": 255,
   "metadata": {},
   "outputs": [
    {
     "name": "stdout",
     "output_type": "stream",
     "text": [
      "10th Percentile: $1459102.0\n",
      "50th Percentile: $2521644.98\n",
      "90th Percentile: $4166190.19\n"
     ]
    }
   ],
   "source": [
    "initial_investment = 20000\n",
    "\n",
    "return_10_perc_amount = last_cumulative_returns.quantile(0.1) * initial_investment\n",
    "return_50_perc_amount = last_cumulative_returns.quantile(0.5) * initial_investment\n",
    "return_90_perc_amount = last_cumulative_returns.quantile(0.9) * initial_investment\n",
    "\n",
    "print(f\"10th Percentile: ${round(return_10_perc_amount,2)}\")\n",
    "print(f\"50th Percentile: ${round(return_50_perc_amount,2)}\")\n",
    "print(f\"90th Percentile: ${round(return_90_perc_amount,2)}\")"
   ]
  },
  {
   "cell_type": "markdown",
   "metadata": {},
   "source": [
    "### Given the current projected annual income from the Plaid analysis, will a 4% withdraw rate from the retirement portfolio meet or exceed that value at the 10th percentile?\n",
    "\n",
    "Note: This is effectively saying that 90% of the expected returns will be greater than the return at the 10th percentile, so this can help measure the uncertainty about having enough funds at retirement"
   ]
  },
  {
   "cell_type": "code",
   "execution_count": 256,
   "metadata": {},
   "outputs": [
    {
     "name": "stdout",
     "output_type": "stream",
     "text": [
      "Future 4% withdrawal: $58364.08\n",
      "\n",
      "Given the current projected income for 2020 of $7389, the future annual withdrawal of $58364.08 is more than sufficient to maintain the investor's income requirements.\n"
     ]
    }
   ],
   "source": [
    "# YOUR CODE HERE\n",
    "withdrawal_rate = 0.04\n",
    "future_annual_withdrawal = return_10_perc_amount * withdrawal_rate\n",
    "\n",
    "print(f\"Future 4% withdrawal: ${round(future_annual_withdrawal,2)}\")\n",
    "print()\n",
    "print(f\"Given the current projected income for 2020 of $7389, the future annual \\\n",
    "withdrawal of ${round(future_annual_withdrawal,2)} is more than sufficient to maintain \\\n",
    "the investor's income requirements.\")"
   ]
  },
  {
   "cell_type": "markdown",
   "metadata": {},
   "source": [
    "### How would a 50% increase in the initial investment amount affect the 4% retirement withdrawal?"
   ]
  },
  {
   "cell_type": "code",
   "execution_count": 257,
   "metadata": {},
   "outputs": [
    {
     "name": "stdout",
     "output_type": "stream",
     "text": [
      "Future 4% withdrawal with initial investment of $30,000: $87546.12\n",
      "\n",
      "Given the current projected income for 2020 of $7389, the future annual withdrawal of $87546.12 would far exceed the investor's income requirements.\n"
     ]
    }
   ],
   "source": [
    "# YOUR CODE HERE\n",
    "initial_investment_50per = initial_investment * 1.5\n",
    "higher_return_10_perc_amount = last_cumulative_returns.quantile(0.1) * initial_investment_50per\n",
    "higher_future_annual_withdrawal = higher_return_10_perc_amount * withdrawal_rate\n",
    "\n",
    "print(f\"Future 4% withdrawal with initial investment of \\\n",
    "${int(initial_investment_50per):,d}: ${round(higher_future_annual_withdrawal,2)}\")\n",
    "print()\n",
    "print(f\"Given the current projected income for 2020 of $7389, the future annual \\\n",
    "withdrawal of ${round(higher_future_annual_withdrawal,2)} would far exceed \\\n",
    "the investor's income requirements.\")"
   ]
  },
  {
   "cell_type": "markdown",
   "metadata": {},
   "source": [
    "### Optional Challenge\n",
    "\n",
    "In this section, you will calculate and plot the cumulative returns for the median and 90% confidence intervals. This plot shows the expected cumulative returns for any given day between the first day and the last day of investment. "
   ]
  },
  {
   "cell_type": "code",
   "execution_count": 284,
   "metadata": {},
   "outputs": [
    {
     "data": {
      "text/html": [
       "<div>\n",
       "<style scoped>\n",
       "    .dataframe tbody tr th:only-of-type {\n",
       "        vertical-align: middle;\n",
       "    }\n",
       "\n",
       "    .dataframe tbody tr th {\n",
       "        vertical-align: top;\n",
       "    }\n",
       "\n",
       "    .dataframe thead th {\n",
       "        text-align: right;\n",
       "    }\n",
       "</style>\n",
       "<table border=\"1\" class=\"dataframe\">\n",
       "  <thead>\n",
       "    <tr style=\"text-align: right;\">\n",
       "      <th></th>\n",
       "      <th>0.05</th>\n",
       "      <th>0.5</th>\n",
       "      <th>0.95</th>\n",
       "    </tr>\n",
       "  </thead>\n",
       "  <tbody>\n",
       "    <tr>\n",
       "      <th>7556</th>\n",
       "      <td>65.599838</td>\n",
       "      <td>125.758867</td>\n",
       "      <td>248.088056</td>\n",
       "    </tr>\n",
       "    <tr>\n",
       "      <th>7557</th>\n",
       "      <td>65.802182</td>\n",
       "      <td>125.703069</td>\n",
       "      <td>248.873072</td>\n",
       "    </tr>\n",
       "    <tr>\n",
       "      <th>7558</th>\n",
       "      <td>65.602444</td>\n",
       "      <td>125.771267</td>\n",
       "      <td>248.898968</td>\n",
       "    </tr>\n",
       "    <tr>\n",
       "      <th>7559</th>\n",
       "      <td>65.587571</td>\n",
       "      <td>126.094867</td>\n",
       "      <td>248.046530</td>\n",
       "    </tr>\n",
       "    <tr>\n",
       "      <th>7560</th>\n",
       "      <td>65.756661</td>\n",
       "      <td>126.082249</td>\n",
       "      <td>249.071049</td>\n",
       "    </tr>\n",
       "  </tbody>\n",
       "</table>\n",
       "</div>"
      ],
      "text/plain": [
       "           0.05         0.5        0.95\n",
       "7556  65.599838  125.758867  248.088056\n",
       "7557  65.802182  125.703069  248.873072\n",
       "7558  65.602444  125.771267  248.898968\n",
       "7559  65.587571  126.094867  248.046530\n",
       "7560  65.756661  126.082249  249.071049"
      ]
     },
     "execution_count": 284,
     "metadata": {},
     "output_type": "execute_result"
    }
   ],
   "source": [
    "quantiles = pd.DataFrame()\n",
    "quantiles['0.05'] = portfolio_cumulative_returns.quantile(q=0.05, axis=1)\n",
    "quantiles['0.5'] = portfolio_cumulative_returns.quantile(q=0.5, axis=1)\n",
    "quantiles['0.95'] = portfolio_cumulative_returns.quantile(q=0.95, axis=1)\n",
    "\n",
    "quantiles.tail()"
   ]
  },
  {
   "cell_type": "code",
   "execution_count": 287,
   "metadata": {},
   "outputs": [
    {
     "data": {
      "text/plain": [
       "<matplotlib.axes._subplots.AxesSubplot at 0x15745a5d0>"
      ]
     },
     "execution_count": 287,
     "metadata": {},
     "output_type": "execute_result"
    },
    {
     "data": {
      "image/png": "[encoded data removed]",
      "text/plain": [
       "<Figure size 432x288 with 1 Axes>"
      ]
     },
     "metadata": {
      "needs_background": "light"
     },
     "output_type": "display_data"
    }
   ],
   "source": [
    "quantiles.plot(title='Portfolio Performance Over Time')"
   ]
  },
  {
   "cell_type": "markdown",
   "metadata": {},
   "source": [
    "## Early Retirement"
   ]
  },
  {
   "cell_type": "code",
   "execution_count": 301,
   "metadata": {},
   "outputs": [
    {
     "data": {
      "text/html": [
       "<div>\n",
       "<style scoped>\n",
       "    .dataframe tbody tr th:only-of-type {\n",
       "        vertical-align: middle;\n",
       "    }\n",
       "\n",
       "    .dataframe tbody tr th {\n",
       "        vertical-align: top;\n",
       "    }\n",
       "\n",
       "    .dataframe thead th {\n",
       "        text-align: right;\n",
       "    }\n",
       "</style>\n",
       "<table border=\"1\" class=\"dataframe\">\n",
       "  <thead>\n",
       "    <tr style=\"text-align: right;\">\n",
       "      <th></th>\n",
       "      <th>0</th>\n",
       "      <th>1</th>\n",
       "      <th>2</th>\n",
       "      <th>3</th>\n",
       "      <th>4</th>\n",
       "      <th>5</th>\n",
       "      <th>6</th>\n",
       "      <th>7</th>\n",
       "      <th>8</th>\n",
       "      <th>9</th>\n",
       "      <th>...</th>\n",
       "      <th>490</th>\n",
       "      <th>491</th>\n",
       "      <th>492</th>\n",
       "      <th>493</th>\n",
       "      <th>494</th>\n",
       "      <th>495</th>\n",
       "      <th>496</th>\n",
       "      <th>497</th>\n",
       "      <th>498</th>\n",
       "      <th>499</th>\n",
       "    </tr>\n",
       "  </thead>\n",
       "  <tbody>\n",
       "    <tr>\n",
       "      <th>0</th>\n",
       "      <td>1.000000</td>\n",
       "      <td>1.000000</td>\n",
       "      <td>1.000000</td>\n",
       "      <td>1.000000</td>\n",
       "      <td>1.000000</td>\n",
       "      <td>1.000000</td>\n",
       "      <td>1.000000</td>\n",
       "      <td>1.000000</td>\n",
       "      <td>1.000000</td>\n",
       "      <td>1.000000</td>\n",
       "      <td>...</td>\n",
       "      <td>1.000000</td>\n",
       "      <td>1.000000</td>\n",
       "      <td>1.000000</td>\n",
       "      <td>1.000000</td>\n",
       "      <td>1.000000</td>\n",
       "      <td>1.000000</td>\n",
       "      <td>1.000000</td>\n",
       "      <td>1.000000</td>\n",
       "      <td>1.000000</td>\n",
       "      <td>1.000000</td>\n",
       "    </tr>\n",
       "    <tr>\n",
       "      <th>1</th>\n",
       "      <td>1.005092</td>\n",
       "      <td>0.985907</td>\n",
       "      <td>1.004838</td>\n",
       "      <td>1.000434</td>\n",
       "      <td>1.007449</td>\n",
       "      <td>0.995856</td>\n",
       "      <td>0.993545</td>\n",
       "      <td>1.002413</td>\n",
       "      <td>1.012800</td>\n",
       "      <td>0.997469</td>\n",
       "      <td>...</td>\n",
       "      <td>0.993481</td>\n",
       "      <td>1.002702</td>\n",
       "      <td>1.014796</td>\n",
       "      <td>1.002939</td>\n",
       "      <td>0.985914</td>\n",
       "      <td>1.006323</td>\n",
       "      <td>1.006545</td>\n",
       "      <td>1.018130</td>\n",
       "      <td>0.989644</td>\n",
       "      <td>1.016762</td>\n",
       "    </tr>\n",
       "    <tr>\n",
       "      <th>2</th>\n",
       "      <td>0.998460</td>\n",
       "      <td>0.989450</td>\n",
       "      <td>1.008643</td>\n",
       "      <td>1.010653</td>\n",
       "      <td>1.011869</td>\n",
       "      <td>0.997851</td>\n",
       "      <td>0.987765</td>\n",
       "      <td>1.002343</td>\n",
       "      <td>1.012584</td>\n",
       "      <td>1.000556</td>\n",
       "      <td>...</td>\n",
       "      <td>0.985960</td>\n",
       "      <td>1.008809</td>\n",
       "      <td>1.011712</td>\n",
       "      <td>1.005742</td>\n",
       "      <td>0.989651</td>\n",
       "      <td>1.006181</td>\n",
       "      <td>1.006679</td>\n",
       "      <td>1.014181</td>\n",
       "      <td>0.993886</td>\n",
       "      <td>1.017488</td>\n",
       "    </tr>\n",
       "    <tr>\n",
       "      <th>3</th>\n",
       "      <td>1.012971</td>\n",
       "      <td>0.988348</td>\n",
       "      <td>1.008028</td>\n",
       "      <td>1.003291</td>\n",
       "      <td>1.004498</td>\n",
       "      <td>1.009441</td>\n",
       "      <td>1.000312</td>\n",
       "      <td>1.006505</td>\n",
       "      <td>1.013577</td>\n",
       "      <td>0.992182</td>\n",
       "      <td>...</td>\n",
       "      <td>0.980081</td>\n",
       "      <td>1.011630</td>\n",
       "      <td>1.025550</td>\n",
       "      <td>1.005554</td>\n",
       "      <td>0.983814</td>\n",
       "      <td>1.012618</td>\n",
       "      <td>1.018882</td>\n",
       "      <td>1.013455</td>\n",
       "      <td>1.001000</td>\n",
       "      <td>1.022459</td>\n",
       "    </tr>\n",
       "    <tr>\n",
       "      <th>4</th>\n",
       "      <td>1.019689</td>\n",
       "      <td>0.989645</td>\n",
       "      <td>1.005700</td>\n",
       "      <td>1.001308</td>\n",
       "      <td>1.015147</td>\n",
       "      <td>1.006452</td>\n",
       "      <td>0.996251</td>\n",
       "      <td>1.007958</td>\n",
       "      <td>1.012638</td>\n",
       "      <td>0.990143</td>\n",
       "      <td>...</td>\n",
       "      <td>0.985575</td>\n",
       "      <td>1.011787</td>\n",
       "      <td>1.029648</td>\n",
       "      <td>1.002362</td>\n",
       "      <td>0.981147</td>\n",
       "      <td>1.010436</td>\n",
       "      <td>1.019113</td>\n",
       "      <td>1.004614</td>\n",
       "      <td>1.010154</td>\n",
       "      <td>1.027336</td>\n",
       "    </tr>\n",
       "  </tbody>\n",
       "</table>\n",
       "<p>5 rows × 500 columns</p>\n",
       "</div>"
      ],
      "text/plain": [
       "        0         1         2         3         4         5         6    \\\n",
       "0  1.000000  1.000000  1.000000  1.000000  1.000000  1.000000  1.000000   \n",
       "1  1.005092  0.985907  1.004838  1.000434  1.007449  0.995856  0.993545   \n",
       "2  0.998460  0.989450  1.008643  1.010653  1.011869  0.997851  0.987765   \n",
       "3  1.012971  0.988348  1.008028  1.003291  1.004498  1.009441  1.000312   \n",
       "4  1.019689  0.989645  1.005700  1.001308  1.015147  1.006452  0.996251   \n",
       "\n",
       "        7         8         9    ...       490       491       492       493  \\\n",
       "0  1.000000  1.000000  1.000000  ...  1.000000  1.000000  1.000000  1.000000   \n",
       "1  1.002413  1.012800  0.997469  ...  0.993481  1.002702  1.014796  1.002939   \n",
       "2  1.002343  1.012584  1.000556  ...  0.985960  1.008809  1.011712  1.005742   \n",
       "3  1.006505  1.013577  0.992182  ...  0.980081  1.011630  1.025550  1.005554   \n",
       "4  1.007958  1.012638  0.990143  ...  0.985575  1.011787  1.029648  1.002362   \n",
       "\n",
       "        494       495       496       497       498       499  \n",
       "0  1.000000  1.000000  1.000000  1.000000  1.000000  1.000000  \n",
       "1  0.985914  1.006323  1.006545  1.018130  0.989644  1.016762  \n",
       "2  0.989651  1.006181  1.006679  1.014181  0.993886  1.017488  \n",
       "3  0.983814  1.012618  1.018882  1.013455  1.001000  1.022459  \n",
       "4  0.981147  1.010436  1.019113  1.004614  1.010154  1.027336  \n",
       "\n",
       "[5 rows x 500 columns]"
      ]
     },
     "execution_count": 301,
     "metadata": {},
     "output_type": "execute_result"
    }
   ],
   "source": [
    "number_simulations = 500\n",
    "number_records_5yr = 252 * 5\n",
    "monte_carlo_5yr = pd.DataFrame()\n",
    "portfolio_cumulative_returns_5yr = pd.DataFrame()\n",
    "weights_5yr = [0.8, 0.2]\n",
    "\n",
    "for x in range(number_simulations):\n",
    "    \n",
    "    simulated_spy_5yr = [spy_last_price]\n",
    "    simulated_agg_5yr = [agg_last_price]\n",
    "    \n",
    "    for i in range(number_records_5yr):\n",
    "        \n",
    "        simulated_spy_price_5yr = simulated_spy_5yr[-1] *\\\n",
    "        (1 + np.random.normal(avg_daily_return_spy, daily_returns_std_spy))\n",
    "        \n",
    "        simulated_agg_price_5yr = simulated_agg_5yr[-1] *\\\n",
    "        (1 + np.random.normal(avg_daily_return_agg, daily_returns_std_agg))\n",
    "        \n",
    "        simulated_spy_5yr.append(simulated_spy_price_5yr)\n",
    "        simulated_agg_5yr.append(simulated_agg_price_5yr)\n",
    "        \n",
    "    monte_carlo_5yr[\"SPY prices\"] = pd.Series(simulated_spy_5yr)\n",
    "    monte_carlo_5yr[\"AGG prices\"] = pd.Series(simulated_agg_5yr)\n",
    "    \n",
    "    simulated_daily_returns_5yr = monte_carlo_5yr.pct_change()\n",
    "    \n",
    "    portfolio_daily_returns_5yr = simulated_daily_returns_5yr.dot(weights_5yr)\n",
    "    \n",
    "    portfolio_cumulative_returns_5yr[x] = (1 + portfolio_daily_returns_5yr.fillna(0)).cumprod()\n",
    "    \n",
    "portfolio_cumulative_returns_5yr.head()\n",
    "    "
   ]
  },
  {
   "cell_type": "code",
   "execution_count": 302,
   "metadata": {},
   "outputs": [
    {
     "data": {
      "text/plain": [
       "<matplotlib.axes._subplots.AxesSubplot at 0x154caf790>"
      ]
     },
     "execution_count": 302,
     "metadata": {},
     "output_type": "execute_result"
    },
    {
     "data": {
      "image/png": "[encoded data removed]",
      "text/plain": [
       "<Figure size 432x288 with 1 Axes>"
      ]
     },
     "metadata": {
      "needs_background": "light"
     },
     "output_type": "display_data"
    }
   ],
   "source": [
    "portfolio_cumulative_returns_5yr.plot(legend=None, title=\"Simulated 5-Year Retirement Portfolio\")\n"
   ]
  },
  {
   "cell_type": "code",
   "execution_count": 303,
   "metadata": {},
   "outputs": [
    {
     "data": {
      "text/plain": [
       "0    2.647429\n",
       "1    3.059788\n",
       "2    3.596816\n",
       "3    3.396580\n",
       "4    4.012514\n",
       "Name: 1260, dtype: float64"
      ]
     },
     "execution_count": 303,
     "metadata": {},
     "output_type": "execute_result"
    }
   ],
   "source": [
    "last_cumulative_returns_5yr = portfolio_cumulative_returns_5yr.iloc[-1, :]\n",
    "last_cumulative_returns_5yr.head()"
   ]
  },
  {
   "cell_type": "code",
   "execution_count": 304,
   "metadata": {},
   "outputs": [
    {
     "data": {
      "text/plain": [
       "0.05    1.834194\n",
       "0.95    3.673516\n",
       "Name: 1260, dtype: float64"
      ]
     },
     "execution_count": 304,
     "metadata": {},
     "output_type": "execute_result"
    }
   ],
   "source": [
    "confidence_interval_5yr = last_cumulative_returns_5yr.quantile(q=[0.05, 0.95])\n",
    "confidence_interval_5yr"
   ]
  },
  {
   "cell_type": "code",
   "execution_count": 305,
   "metadata": {},
   "outputs": [
    {
     "data": {
      "text/plain": [
       "<matplotlib.lines.Line2D at 0x152aa8a90>"
      ]
     },
     "execution_count": 305,
     "metadata": {},
     "output_type": "execute_result"
    },
    {
     "data": {
      "image/png": "[encoded data removed]",
      "text/plain": [
       "<Figure size 432x288 with 1 Axes>"
      ]
     },
     "metadata": {
      "needs_background": "light"
     },
     "output_type": "display_data"
    }
   ],
   "source": [
    "plt.figure();\n",
    "last_cumulative_returns_5yr.plot(kind='hist', title='Projected Cumulative Returns', density=True, bins=50)\n",
    "plt.axvline(confidence_interval_5yr.iloc[0], color='r')\n",
    "plt.axvline(confidence_interval_5yr.iloc[1], color='r')"
   ]
  },
  {
   "cell_type": "code",
   "execution_count": 306,
   "metadata": {},
   "outputs": [
    {
     "name": "stdout",
     "output_type": "stream",
     "text": [
      "10th Percentile: 194.82%\n",
      "50th Percentile: 256.55%\n",
      "90th Percentile: 334.47%\n"
     ]
    }
   ],
   "source": [
    "return_10_perc_5yr = last_cumulative_returns_5yr.quantile(0.1)\n",
    "return_50_perc_5yr = last_cumulative_returns_5yr.quantile(0.5)\n",
    "return_90_perc_5yr = last_cumulative_returns_5yr.quantile(0.9)\n",
    "\n",
    "print(f\"10th Percentile: {round(return_10_perc_5yr * 100,2)}%\")\n",
    "print(f\"50th Percentile: {round(return_50_perc_5yr * 100,2)}%\")\n",
    "print(f\"90th Percentile: {round(return_90_perc_5yr * 100,2)}%\")"
   ]
  },
  {
   "cell_type": "code",
   "execution_count": 307,
   "metadata": {},
   "outputs": [
    {
     "name": "stdout",
     "output_type": "stream",
     "text": [
      "10th Percentile: $194820.42\n",
      "50th Percentile: $256546.84\n",
      "90th Percentile: $334473.89\n"
     ]
    }
   ],
   "source": [
    "initial_investment_5yr = 100000\n",
    "\n",
    "return_10_perc_amount_5yr = last_cumulative_returns_5yr.quantile(0.1) * initial_investment_5yr\n",
    "return_50_perc_amount_5yr = last_cumulative_returns_5yr.quantile(0.5) * initial_investment_5yr\n",
    "return_90_perc_amount_5yr = last_cumulative_returns_5yr.quantile(0.9) * initial_investment_5yr\n",
    "\n",
    "print(f\"10th Percentile: ${round(return_10_perc_amount_5yr,2)}\")\n",
    "print(f\"50th Percentile: ${round(return_50_perc_amount_5yr,2)}\")\n",
    "print(f\"90th Percentile: ${round(return_90_perc_amount_5yr,2)}\")"
   ]
  },
  {
   "cell_type": "code",
   "execution_count": 308,
   "metadata": {},
   "outputs": [
    {
     "name": "stdout",
     "output_type": "stream",
     "text": [
      "Future 4% withdrawal: $7792.82\n"
     ]
    }
   ],
   "source": [
    "withdrawal_rate_5yr = 0.04\n",
    "future_annual_withdrawal_5yr = return_10_perc_amount_5yr * withdrawal_rate_5yr\n",
    "\n",
    "print(f\"Future 4% withdrawal: ${round(future_annual_withdrawal_5yr,2)}\")"
   ]
  },
  {
   "cell_type": "code",
   "execution_count": 309,
   "metadata": {},
   "outputs": [
    {
     "name": "stdout",
     "output_type": "stream",
     "text": [
      "Given the 80%/20% stock/bond allocation of the portfolio, the cumulative 5-year return would need to be $94818.09 in order to produce a 4% annual withdrawal to match the current income of $7,389.\n"
     ]
    }
   ],
   "source": [
    "current_income = 7389\n",
    "\n",
    "cum_ret = current_income / withdrawal_rate_5yr\n",
    "init_invest = cum_ret / last_cumulative_returns_5yr.quantile(0.1)\n",
    "\n",
    "print(f\"Given the {int(weights_5yr[0]*100)}%/{int(weights_5yr[1]*100)}% stock/bond \\\n",
    "allocation of the portfolio, the cumulative 5-year return would need to be \\\n",
    "${round(init_invest,2)} in order to produce a 4% annual withdrawal to match the \\\n",
    "current income of ${int(current_income):,d}.\")\n"
   ]
  },
  {
   "cell_type": "code",
   "execution_count": null,
   "metadata": {},
   "outputs": [],
   "source": []
  }
 ],
 "metadata": {
  "kernel_info": {
   "name": "dev"
  },
  "kernelspec": {
   "display_name": "Python 3",
   "language": "python",
   "name": "python3"
  },
  "language_info": {
   "codemirror_mode": {
    "name": "ipython",
    "version": 3
   },
   "file_extension": ".py",
   "mimetype": "text/x-python",
   "name": "python",
   "nbconvert_exporter": "python",
   "pygments_lexer": "ipython3",
   "version": "3.7.4"
  },
  "nteract": {
   "version": "0.12.3"
  }
 },
 "nbformat": 4,
 "nbformat_minor": 4
}
